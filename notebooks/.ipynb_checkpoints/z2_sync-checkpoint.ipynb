{
 "cells": [
  {
   "cell_type": "markdown",
   "metadata": {},
   "source": [
    "# $\\mathbb{Z}_2$ Syncronization\n",
    "\n",
    "We illustrate the $\\mathbb{Z}_2$ syncronization inference problem using [pyro](http://pyro.ai)."
   ]
  },
  {
   "cell_type": "code",
   "execution_count": 15,
   "metadata": {},
   "outputs": [],
   "source": [
    "# import some dependencies\n",
    "import torch\n",
    "from torch.autograd import Variable\n",
    "\n",
    "import pyro\n",
    "import pyro.distributions as dist\n",
    "import pyro\n",
    "\n",
    "from pyro.infer import SVI"
   ]
  },
  {
   "cell_type": "markdown",
   "metadata": {},
   "source": [
    "Draw a sample from the normal distribution"
   ]
  },
  {
   "cell_type": "code",
   "execution_count": 3,
   "metadata": {},
   "outputs": [
    {
     "name": "stdout",
     "output_type": "stream",
     "text": [
      "Variable containing:\n",
      " 1.8868\n",
      "[torch.FloatTensor of size 1]\n",
      "\n"
     ]
    }
   ],
   "source": [
    "mu = Variable(torch.zeros(1))   # mean zero\n",
    "sigma = Variable(torch.ones(1)) # unit variance\n",
    "x = dist.normal(mu, sigma)      # x is a sample from N(0,1)\n",
    "print(x)"
   ]
  },
  {
   "cell_type": "code",
   "execution_count": 6,
   "metadata": {},
   "outputs": [
    {
     "name": "stdout",
     "output_type": "stream",
     "text": [
      "Variable containing:\n",
      "-2.6989\n",
      "[torch.FloatTensor of size 1]\n",
      "\n"
     ]
    }
   ],
   "source": [
    "log_p_x = dist.normal.log_pdf(x, mu, sigma)\n",
    "print(log_p_x)"
   ]
  },
  {
   "cell_type": "code",
   "execution_count": 8,
   "metadata": {},
   "outputs": [
    {
     "name": "stdout",
     "output_type": "stream",
     "text": [
      "Variable containing:\n",
      " 0.5003\n",
      "[torch.FloatTensor of size 1]\n",
      "\n"
     ]
    }
   ],
   "source": [
    "x = pyro.sample(\"my_sample\", dist.normal, mu, sigma)\n",
    "print(x)"
   ]
  },
  {
   "cell_type": "code",
   "execution_count": 13,
   "metadata": {},
   "outputs": [
    {
     "name": "stdout",
     "output_type": "stream",
     "text": [
      "('sunny', 69.81704711914062)\n",
      "('sunny', 81.15454864501953)\n",
      "('cloudy', 66.45874786376953)\n"
     ]
    }
   ],
   "source": [
    "def weather():\n",
    "    cloudy = pyro.sample('cloudy', dist.bernoulli,\n",
    "                         Variable(torch.Tensor([0.3])))\n",
    "    cloudy = 'cloudy' if cloudy.data[0] == 1.0 else 'sunny'\n",
    "    mean_temp = {'cloudy': [55.0], 'sunny': [75.0]}[cloudy]\n",
    "    sigma_temp = {'cloudy': [10.0], 'sunny': [15.0]}[cloudy]\n",
    "    temp = pyro.sample('temp', dist.normal,\n",
    "                       Variable(torch.Tensor(mean_temp)),\n",
    "                       Variable(torch.Tensor(sigma_temp)))\n",
    "    return cloudy, temp.data[0]\n",
    "\n",
    "for _ in range(3):\n",
    "    print(weather())"
   ]
  },
  {
   "cell_type": "markdown",
   "metadata": {},
   "source": [
    "Our model is\n",
    "\n",
    "$$\n",
    "Y_{ij} = \\frac{\\lambda}{n}\\sigma_i\\sigma_j+ \\frac{W_{ij}}{\\sqrt{n}},\n",
    "$$\n",
    "\n",
    "with $\\sigma_{i}\\in\\{\\pm 1\\}$, $i=1,\\ldots n$, where $W_{i>j}\\in \\mathcal{N}(0,1)$, with $W_{ij}=W_{ji}$ and $W_{ii}=0$. Thus we need to sample from the distribution\n",
    "\n",
    "$$\n",
    "p(\\sigma,Y;m) = \\prod_i p(\\sigma_i;m_i) \\prod_{i>j} \\sqrt{\\frac{N}{2\\pi}}\\exp\\left[-\\frac{N\\left(Y_{ij} - \\lambda \\sigma_i \\sigma_j/n\\right)^2}{2}\\right],\n",
    "$$\n",
    "\n",
    "where the first factor describes the Bernoulli distributions, parameterized in terms of their expectations $m_i$.\n",
    "\n",
    "$$\n",
    "p(\\sigma_i=\\pm 1;m_i) = \\frac{1\\pm m_i}{2}.\n",
    "$$\n",
    "\n",
    "Actually, we want to obtain $p(\\sigma|Y)$, which amounts to determining posterior $m_i(Y)$. \n",
    "\n",
    "As per [this guide](http://pyro.ai/examples/svi_part_i.html), to do variational inference in Pyro, we need to define a __model__ and a __guide__. The model consists of\n",
    "\n",
    "1. Observations (`pyro.observe`), in our case $Y_{ij}$\n",
    "1. Latent random variables (`pyro.sample`), $\\sigma_j$\n",
    "1. Parameters (`pyro.param`), $m_i$\n",
    "\n",
    "The guide is the variational distribution. It is also a stochastic function, but without `pyro.observe` statements.\n",
    "\n",
    "First we need to make some observations, using the above model.\n",
    "\n",
    "We will observe the $Y_{i>j}$ with a Gaussian likelihood, with the mean set by the variables $\\sigma_j$."
   ]
  },
  {
   "cell_type": "code",
   "execution_count": 50,
   "metadata": {},
   "outputs": [],
   "source": [
    "# \n",
    "\n",
    "def Z2_model(λ,n):\n",
    "    m_0 = Variable(torch.ones(n)*0.5) # n Bernoulli with 50% success\n",
    "    var = Variable(torch.ones(1))\n",
    "    σ = pyro.sample('σ', dist.bernoulli, m_0)\n",
    "    for i in range(n):\n",
    "        for j in range(i):\n",
    "            pyro.observe(\"obs_{}{}\".format(i,j), \n",
    "                         dist.normal, data[i][j], λ*σ[i]*σ[j] / n, var)"
   ]
  },
  {
   "cell_type": "code",
   "execution_count": 39,
   "metadata": {},
   "outputs": [],
   "source": [
    "def Z2_guide():\n",
    "    m_var_0 = Variable(torch.ones(n)*0.5, requires_grad=True) # n Bernoulli with 50% success\n",
    "    m_var = pyro.param(\"m_var\", m_var_0)\n",
    "    pyro.sample('σ', dist.bernoulli, m_var)\n"
   ]
  },
  {
   "cell_type": "code",
   "execution_count": null,
   "metadata": {},
   "outputs": [],
   "source": [
    "\n",
    "svi = SVI(model, guide, optimizer, loss=\"ELBO\")"
   ]
  }
 ],
 "metadata": {
  "kernelspec": {
   "display_name": "Python [default]",
   "language": "python",
   "name": "python3"
  },
  "language_info": {
   "codemirror_mode": {
    "name": "ipython",
    "version": 3
   },
   "file_extension": ".py",
   "mimetype": "text/x-python",
   "name": "python",
   "nbconvert_exporter": "python",
   "pygments_lexer": "ipython3",
   "version": "3.6.4"
  }
 },
 "nbformat": 4,
 "nbformat_minor": 2
}
